{
 "cells": [
  {
   "cell_type": "markdown",
   "metadata": {},
   "source": [
    "<h2>TUGAS ALGORITMA EVOLUSI </h2>\n",
    "<h3>PENENTUAN JARAK TERPENDEK PADA JALUR DISTRIBUSI BARANG DI PULAU JAWA DENGAN MENGGUNAKAN ALGORITMA GENETIKA</h3>"
   ]
  },
  {
   "cell_type": "markdown",
   "metadata": {},
   "source": [
    "Nama anggota kelompok : <BR>\n",
    "Arya agung andika 165150207113010<br>\n",
    "Rama Humam Syarokha 165150207113001 <br>\n",
    "Muhammad Asto Nugroho 165150207113012<br>\n",
    "Michael Eggi Bastian 165150218113006<br>"
   ]
  },
  {
   "cell_type": "markdown",
   "metadata": {},
   "source": [
    "<h3>Review paper</h3><br>\n",
    "Judul jurnal : Penentuan Jarak terpendek pada jalur distribusi barang di pulau Jawa dengan menggunakan algoritma Genetika<br>\n",
    "Penulis      : I Dewa Made Adi Baskara Joni & Vivine Nurcahyawati<br>\n",
    "Tahun        : 2012<br>\n",
    "Reviewer     : Arya Agung Andika, Rama Humam Syarokha, Muhammad Asto Nugrohom, Michael Eggi Bastian<br>\n",
    "<i>Jurnal Nasional Pendidikan Teknik Informatika (JANAPATI)</i><br>\n",
    "\n",
    "<h4>Abstrak</h4>\n",
    "<p>Abstrak pada jurnal ini berisi tentang penjelasan permasalahan banyaknya kombinasi jalur distribusi barang melalui darat yang belum tentu memberikan solusi terbaik. Kemudian disebutkan juta solusi dari permasalahan ini yaitu menggunakan algoritma genetika. Menurut jurnal tersebut algoritma Genetika mampu memberikan hasil yang optimal dan diterapkan ke dalam suatu perangkat lunak.Penulis juga memberikan hasil pengujian dengan menggunakan kombinasi 5 kota sebagai tujuan distribusi. Hasil yang didapatkan dengan menggunakan PC & PM kurang dari 50 adalah 931 untuk tahap fitness inisialisasi dan 762 untuk fitness setelah dilakukan proses algoritma genetika  </p>\n",
    "<p>Abstraksi yang disajikan penulis hanya menggunakan bahasa Indonesia, menurut kami lebih baik apabila menggunakan 2 bahasa yaitu bahasa Indonesia dan bahasa Inggris. Secara keseluruhan isi dari abstraksi ini sudah lengkap yang mana mencakup permasalahan, solusi yang diharapkan , metode yang ingin digunakan dan hasil pengujian. Penjelasan yang diberikan juga langsung menuju ke topik bahasan, yang menurut kami sebagai pembaca menjadi mudah memahami jurnal ini. </p>\n",
    "<h4>Pendahuluan :</h4>\n",
    "<p>Pada paragraf pertama penulis menjelaskan tentang pentingnya distribusi di dalam bidang usaha. Penulis mengambil salah satu penelitian mengenai mencari jarak terpendek pada jalur distribusinya dalam hal transportasi laut. Sehingga mengacu pada jurnal tersebut penulis mencoba untuk menerapkan algoritma genetika dalm jalur distribusi darat.</p>\n",
    "<p>Pada paragraf selanjutnya dijelaskan secara singkat penegertian algoritma genetika dan manfaanya di dalam permasalahan ini.Disebutkan juga mengenai pembuatan perangkat lunak dengan masukan berupa kombinasi kota tujuan.</p>\n",
    "<p>pada paragraf tiga menjelaskan apa tujuan dari penelitian ini yaitu untuk menantukan jalur distribusi barang yang terbaik dengan menggunakan algoritma genetika. Dalam penentuan jalur tersebut difokuskan pada pendistribusian barang ke agen - agen yang melalui jalur darat. Jalur pada penelitian ini yang digunakan hanya berada di pulau Jawa dan kota awal merupakan kota tujuan akhir dari jalur distribusi. </p>\n",
    "<p>secara keseluruhan pendahuluan yang disajikan sudah cukup baik namun pada latar belakang permasalahan tidak dijelaskan secara lebih mendalam. Penulis juga tidak mengungkapkan mengenai penelitian - penelitian lainnya yang berkaitan dengan permasalahan ini.Hal ini penting untuk diungkapkan sebagai landasan bahwa penelitian ini layak untuk dilakukan.</p>\n",
    "<h4>Dasar Teori :</h4>\n",
    "<p>Pada bagian dasar teori Penulis membagi ke dalam 2 sub bagian yaitu penjelasan mengenai teori algoritma Genetika dan penjelasan mengenai teori Algortima Genetika <i>Canonical</i>. Pada pengertian algoritma genetika dijelaskan bahwa algortima genetika adalah algoritma pencarian heuristik yang didasarkan atas mekanisme evolusi biologis.Algoritma genetika menawarkan suatu solusi pemecahan masalah yang terbaik, dengan memanfaatkan metode seleksi, <i>crossover</i>, dan mutasi. Pengertian algoritma genetika <i>Canonical</i> adalah salah satu model GA dengan ciri representasi biner dari solusi individu, masalah sederhana <i>crossover</i> bebas, operator mutasi dan aturan pemilihan proposional.</p> \n",
    "<p>penjelasan teori yang diberikan tidak sepenuhnya lengkap, peneliti tidak menjelaskan dasar teori mengenai metode seleksi,crossover, dan mutasi di bab ini. Namun sebaliknya penulis menjelaskan metode seleksi,crossover dan mutasi di bab 3 yaitu Implementasi perangkat lunak.Menurut kami sebaiknya penjelasan teori - teori ini dijelaskan pada bagian bab dasar teori.</p>\n",
    "<h4>Implementasi perangkat lunak</h4>\n",
    "<p>Pada penjelasan bab ini penulis membagi ke dalam beberapa sub bab antara lain: tahap encoding, proses seleksi, proses rekombinasi/crossover dan proses mutasi. tahapan - tahapan algoritma genetika yang digunakan dalam jurnal ini dapat dilihat pada gambar dibawah :</p>\n",
    "<img src=\"img/pic1.jpg\"></img>\n",
    "<p>Diagram alir yang digambarkan diatas diketahui bahwa proses seleksi dilakukan setelah inisialisasi populasi kemudian baru melakukan reproduksi (crossover dan mutasi). Dari beberapa jurnal yang kami baca memang banyak yang menerapkan proses seleksi terlebih dahulu dibandingkan reproduksi seperti pada jurnal penerapan algoritma genetika pada permasalahan matematika oleh Awang Andhyka(2018) dan jurnal optimalisasi penjadwalan produksi dengan metode algoritma genetika di PT.Progress Diecast oleh Lily Amelia & Aprianto (2011). Namun dari referensi yang kami temukan seperti pada modul pembelajaran yang dibuat oleh wayan firdaus Mahmudy(2015) dan beberapa jurnal seperti penjadwalan kapal penyeberangan oleh Ria Febriyana, Wayan Firdaus Mahmudy (2016) jurnal implementasi algoritma genetika untuk penjadwalan <i>Customer service</i> oleh Damayanti, Madi Putri, M.Ali Fauzi(2017) menyatakan bahwa tahapan algoritma dimulai dari inisialisasi populasi, crossover, mutasi, dan seleksi. Hal ini bertujuan untuk mendapatkan individu terbaik dari hasil reproduksi yang siap digunakan untuk generasi selanjutnya. Maka dari itu kelompok kami  nantinya akan menggunakan alur tahap ini untuk diterapkan di dalam implementasi jurnal penentuan jarak terpendek pada jalur distribusi di pulau Jawa. Berikut adalah alur yang akan kami gunakan dalam implementasi koding</p>\n",
    "<img src=\"img/flowchart1.jpg\"></img>\n",
    "<h4>Teknik Encoding</h4>\n",
    "<p>encoding merupakan fungsi pengkodean yang digunakan untuk merepresentasikan pemetaan variabel objek ke dalam bentuk string. Menurut jurnal <i>Encoding Schemes in Genetic Algorithm</i> oleh Anit Kumar(2013) teknik encoding sendiri ada beberapa jenis yaitu <i>binary encoding, octal encoding, hexadecimal encoding,permutation encoding, value encoding dan tree encoding. </i>Pada penelitian ini teknik encoding yang digunakan adalah permutation encoding. Permutation encoding adalah kumpulan - kumpulan angka yang mewakili posisi dalam sebuah rangkaian. Contoh representasi nya adalah seperti 1,2,5,4,3. Angka 1,2,5,4,3 adalah angka yang mewakili nama kota pada jalur distribusi.</p>\n",
    "\n",
    "<p>Menurut kami penggunaan teknik  <i>permutation encoding </i> pada jurnal ini sudah tepat karena disebutkan pada jurnal  <i>Encoding Schemes in Genetic Algorithm</i> bahwa cocok digunakan pada permasalahan <i>travel salesman problem</i> dimana angka - angka akan direpresentasikan sebagai kota. Data kota - kota di pulau jawa beserta jaraknya dapat dilihat pada gambar dibawah.</p>\n",
    "<img src=\"img/jarak_kota.jpg\">\n",
    "<h4>Proses Seleksi</h4>\n",
    "<p>Proses seleksi bertanggung jawab untuk melakukan pemilihan terhadap individu yang hendak diikutkan dalam proses reproduksi (wayan firdaus mahmudy & candra dewi.2014).Pada bagian ini penulis menjelaskan teknik seleksi yang digunakan beserta pengertiannya. Teknik seleksi yang digunakan adalah <i>Roulette wheel.</i>Metode Roulette Wheel Selection merupakan sebuah pendekatan yang dilakukan dengan menghitung nilai probabilitas seleksi ( prob ) tiap individu berdasarkan nilai fitnessnya, nilai prob berfungsi sebagai roullete wheelnya. Dari nilai probabilitas seleksi akan dihitung nilai probabilitas kumulatif ( probCum ) yang nantinya akan digunakan untuk melakukan seleksi pada tiap individu, nilai probCum berfungsi sebagai pemutar roullete wheelnya. Metode Roulette Wheel Selection bertujuan untuk memberikan peluang yang lebih besar terhadap individu yang memiliki nilai fitness yang lebih besar untuk terpilih dan dipertahankan pada generasi selanjutnya. Akan tetapi karena berupa peluang maka tidak menjamin bahwa individu terbaik akan selalu terpilih untuk masuk pada generasi selanjutnya.</p>\n",
    "<p>Berikut adalah contoh proses seleksi roulette wheel, Namun contoh proses seleksi ini terdapat perbedaan dibandingkan dengan paper ini, pada bagian fitness dimana jika di paper fungsi cost disebut dengan fitness, maka fitness pada paper akan diganti menjadi fungsi cost dan inverse pada paper digunakan sebagai fungsi fitness.</p>\n",
    "<p>1.)Menentukan Fungsi cost </p>\n",
    "<p>fungsi cost yang digunakan adalah jarak antar kota</p>\n",
    "<img src=\"img/5.jpg\">\n",
    "<img src=\"img/6.jpg\">\n",
    "<p>2.) Menentukan fungsi fitness dan menghitung fitness</p>\n",
    "<img src=\"img/fitness.jpg\">\n",
    "<img src=\"img/Hasilfitness.jpg\">\n",
    "<p>3.) Menghitung probabilitas kemungkinan terpilihnya individu</p>\n",
    "<img src=\"img/prob.jpg\">\n",
    "<img src=\"img/hasilProb.jpg\">\n",
    "<p>4.) Menentukan probabilitas kumulatif </p>\n",
    "<img src=\"img/probCum.jpg\">\n",
    "<p>5.) Membangkitkan bilangan random dengan jarak 0 sampai 1 sebanyak jumlah individu dalam populasi</p>\n",
    "<img src=\"img/random2.jpg\">\n",
    "<p>6.) Membandingkan probCum individu yang terpilih dengan bilangan r yang telah dibangkitkan. Jika r kurang dari atau sama dengan probCum maka individu tersebut akan terpilih dan dipertahankan untuk generasi selanjutnya.Maka setelah perbandingan, hasil individu yang terpilih adalah:</p>\n",
    "<img src=\"img/hasilSeleksi.jpg\">\n",
    "\n",
    "\n",
    "\n",
    "<h4>Proses rekombinasi/crossover</h4>\n",
    "<p><i>Crossover</i> merupakan proses perkawilan silang untuk menghasilkan keturunan dari dua buah kromosom induk yang terpilih(wayan firdaus mahmudy & candra dewi.2014).Pada bagian ini penulis menjelaskan mengenai teknik <i>crossover</i> dan cara menerapkannya pada permasalahan ini. Teknik <i>crossover</i> yang digunakan dalam penelitian ini adalah teknik <i>Order crossover (OX) </i> diperkenalkan oleh Davis Teknik ini diawali dengan membangkitkan dua bilangan acak. Kemudian gen yang berada diantara kedua bilangan acak akan disalin ke offspring dengan posisi yang sama. Langkah berikutnya untuk mendapatkan offspring pertama adalah mengurutkan gen yang berada pada parent kedua dengan urutan gen yang berada pada posisi setelah bilangan acak kedua diikuti dengan gen yang berada pada posisi sebelum bilangan acak pertama dan diakhiri dengan gen yang berada pada posisi diantara kedua bilangan acak. Kemudian gen yang telah diurutkan tersebut dibandingkan dengan offspring pertama. Apabila gen tersebut ada pada offspring kedua maka abaikan gen tersebut dari urutan itu. Kemudian masukkan urutan yang baru saja didapat pada offspring dengan cara memasukkan urutan gen pada posisi setelah bilangan acak kedua terlebih dahulu dan sisanya dimasukkan pada posisi sebelum bilangan acak pertama. Begitu juga untuk menghasikan offspring kedua. Berikut adalah contoh cara menghitung <i>crossover</i> untuk kasus ini.</p>\n",
    "<p>1.) tentukan cr(<i>crossover rate</i>) dan bilangan random sebanyak n individu dalam populasi</p>\n",
    "<img src=\"img/random1.jpg\">\n",
    "<p>2.) Diasumsikan pc = 50% atau 0.5. kemudian dicari dengan kategori kromosom ke-K yang dipilih sebagai induk jika R[K] kurang dari pc. maka dari gambar diatas yang terpilih adalah kromosom[2],kromosom[3],kromosom[6]. Proses selanjutnya menentukan posisi crossover dengan membangkitkan bilangan acak antara 1 - (panjang kromosom -1) </p>\n",
    "<img src=\"img/2.jpg\">\n",
    "<p>3.)kemudian lakukan proses <i>crossover</i> seperti pada gambar dibawah</p>\n",
    "<img src=\"img/3.jpg\">\n",
    "<h4>Proses Mutasi</h4>\n",
    "<p>Proses mutasi berguna untuk menciptakan individu baru dengan melakukan modifikasi terhadap satu atau lebih gen dalam individu yang sama (wayan firdaus mahmudy & candra dewi.2014). teknik mutasi yang digunakan dalam jurnal ini adalah <i>swapping mutation</i> atau <i>Reciprocal Random Mutation</i> dimana cara kerja metode ini yaitu dengan memilih dua posisi (exchange point / XP) secara random di kromosom induk kemudian menukarkan nilai pada posisi tersebut (Mahmudy , 2015). Berikut adalah contoh <i>Reciprocal Exchange Mutation</i></p>\n",
    "<img src=\"img/4.jpg\">\n",
    "<d>"
   ]
  },
  {
   "cell_type": "markdown",
   "metadata": {},
   "source": [
    "<p>Kodingan dibawah ini akan mengimplementasikan percobaan yang dilakukan di dalam jurnal PENENTUAN JARAK TERPENDEK PADA JALUR DISTRIBUSI BARANG DI PULAU JAWA DENGAN MENGGUNAKAN ALGORITMA GENETIKA. Terdapat beberapa perbedaan dalam proses yang akan diimplementasikan, dimana perbedaan tersebut meliputi susunan langkah langkah algoritma genetika, fungsi fitness, dan jumlah kota yang akan digunakan. Perbedaan - perbedaan ini telah dijelaskan pada bagian sebelumnya. Percobaan ini akan menggunakan teknik order crossover, reciprocal mutation/swap mutation dan teknik seleksi roulette wheel.</p>"
   ]
  },
  {
   "cell_type": "code",
   "execution_count": 2,
   "metadata": {
    "collapsed": true
   },
   "outputs": [],
   "source": [
    "#import library yang dibutuhkan\n",
    "import numpy as np \n",
    "import pandas as pd \n",
    "import random as rd"
   ]
  },
  {
   "cell_type": "code",
   "execution_count": 6,
   "metadata": {},
   "outputs": [
    {
     "name": "stdout",
     "output_type": "stream",
     "text": [
      "             Madiun  Magelang  malang  pekalongan  purworejo  probolinggo  \\\n",
      "kediri           81       233     103         376        306          177   \n",
      "madiun            0       221     184         315        245          222   \n",
      "magelang        221         0     406         138         44          443   \n",
      "malang          184       406       0         499        429           91   \n",
      "pekalongan      315       138     499           0        170          508   \n",
      "purworejo       245        44     429         170          0          446   \n",
      "probolinggo     222       443      91         508        446            0   \n",
      "rembang         145       184     275         210        228          300   \n",
      "semarang        214        75     397         101        119          407   \n",
      "serang          788       611     671         473        593          981   \n",
      "sukabumi        677       500     860         362        458          870   \n",
      "surakarta       169       370      89         409        393           99   \n",
      "solo            114       108     298         201        131          316   \n",
      "tasikmalaya     501       297     682         257        256          702   \n",
      "tegal           379       202     562          64        223          572   \n",
      "cilacap         375       174     560         195        131          598   \n",
      "wonosobo        265        64     449          34         54          487   \n",
      "\n",
      "             rembang  semarang  serang   sukabumi  surakarta   solo  \\\n",
      "kediri           206       295      869       758         124   175   \n",
      "madiun           145       214      788       677         169   114   \n",
      "magelang         184        75      611       500         370   108   \n",
      "malang           275       397      671       860          89   298   \n",
      "pekalongan       210       101      473       362         409   201   \n",
      "purworejo        228       119      593       458         393   131   \n",
      "probolinggo      300       407      981       870          99   316   \n",
      "rembang            0       109      683       572         201   147   \n",
      "semarang         109         0      574       463         308   100   \n",
      "serang           683       574        0       203         882   674   \n",
      "sukabumi         572       463      203         0         771   563   \n",
      "surakarta        201       308      882       771           0   262   \n",
      "solo             147       100      674       563         262     0   \n",
      "tasikmalaya      467       358      364       202         649   387   \n",
      "tegal            274       165      409       298         473   265   \n",
      "cilacap          355       246      517       355         523   262   \n",
      "wonosobo         228       119      570       435         434   151   \n",
      "\n",
      "             tasikmalaya  tegal   cilacap  wonosobo  \n",
      "kediri               562     460      437       326  \n",
      "madiun               501     379      375       265  \n",
      "magelang             297     202      174        64  \n",
      "malang               682     562      560       449  \n",
      "pekalongan           257      64      195        34  \n",
      "purworejo            256     223      131        54  \n",
      "probolinggo          702     572      598       487  \n",
      "rembang              467     274      355       228  \n",
      "semarang             358     165      246       119  \n",
      "serang               364     409      517       570  \n",
      "sukabumi             202     298      355       435  \n",
      "surakarta            649     473      523       434  \n",
      "solo                 387     265      262       151  \n",
      "tasikmalaya            0     193      153       233  \n",
      "tegal                193       0      131       197  \n",
      "cilacap              153     131        0       127  \n",
      "wonosobo             233     197      127         0  \n",
      "\n",
      " Jarak antar kota\n",
      "\n",
      " [[  0 221 184 315 245 222 145 214 788 677 169 114 501 379 375 265]\n",
      " [221   0 406 138  44 443 184  75 611 500 370 108 297 202 174  64]\n",
      " [184 406   0 499 429  91 275 397 671 860  89 298 682 562 560 449]\n",
      " [315 138 499   0 170 508 210 101 473 362 409 201 257  64 195  34]\n",
      " [245  44 429 170   0 446 228 119 593 458 393 131 256 223 131  54]\n",
      " [222 443  91 508 446   0 300 407 981 870  99 316 702 572 598 487]\n",
      " [145 184 275 210 228 300   0 109 683 572 201 147 467 274 355 228]\n",
      " [214  75 397 101 119 407 109   0 574 463 308 100 358 165 246 119]\n",
      " [788 611 671 473 593 981 683 574   0 203 882 674 364 409 517 570]\n",
      " [677 500 860 362 458 870 572 463 203   0 771 563 202 298 355 435]\n",
      " [169 370  89 409 393  99 201 308 882 771   0 262 649 473 523 434]\n",
      " [114 108 298 201 131 316 147 100 674 563 262   0 387 265 262 151]\n",
      " [501 297 682 257 256 702 467 358 364 202 649 387   0 193 153 233]\n",
      " [379 202 562  64 223 572 274 165 409 298 473 265 193   0 131 197]\n",
      " [375 174 560 195 131 598 355 246 517 355 523 262 153 131   0 127]\n",
      " [265  64 449  34  54 487 228 119 570 435 434 151 233 197 127   0]]\n",
      "\n",
      " Jarak antar kota ke kota kediri\n",
      "\n",
      " [[ 81 233 103 376 306 177 206 295 869 758 124 175 562 460 437 326]]\n"
     ]
    }
   ],
   "source": [
    "#ambi dataset yang telah dibuat sebelumnya\n",
    "dataset = pd.read_excel('datasetAlev.xlsx')\n",
    "#jarak kota kediri ke kota lain dipisah karena kota ini tidak dirandom dan agar memudahkan di dalam crossover,mutasi  dan seleksi\n",
    "jarak_kota = dataset.iloc[1:, :].values\n",
    "\n",
    "#jarak antar kota satu ke kota lainnya\n",
    "jarak_kediri = dataset.iloc[0:1,:].values\n",
    "\n",
    "print(dataset)\n",
    "print(\"\\n Jarak antar kota\")\n",
    "print('\\n',jarak_kota)\n",
    "print(\"\\n Jarak antar kota ke kota kediri\")\n",
    "print('\\n',jarak_kediri)"
   ]
  },
  {
   "cell_type": "code",
   "execution_count": 8,
   "metadata": {
    "collapsed": true
   },
   "outputs": [],
   "source": [
    "#inisialisasi inidividu dengan rentang 0 - 15 sesua dengan jumlah kota yang ada secara acak\n",
    "def individu(panjang_gen):\n",
    "    #buat sebuat dengan rentang 0 sampai panjang_gen\n",
    "    arr = list(range(0, panjang_gen))\n",
    "    #lakukan permutasi pada array arr\n",
    "    x = np.random.permutation(range(0, panjang_gen))\n",
    "    #masukkan hasil permutasi ke dalam list\n",
    "    x.tolist()\n",
    "    return x"
   ]
  },
  {
   "cell_type": "code",
   "execution_count": 9,
   "metadata": {},
   "outputs": [
    {
     "data": {
      "text/plain": [
       "array([ 6,  1, 14,  3,  0, 15, 10,  8,  5,  7, 12, 13,  2,  9,  4, 11])"
      ]
     },
     "execution_count": 9,
     "metadata": {},
     "output_type": "execute_result"
    }
   ],
   "source": [
    "individu(16)"
   ]
  },
  {
   "cell_type": "code",
   "execution_count": 10,
   "metadata": {
    "collapsed": true
   },
   "outputs": [],
   "source": [
    "#inisialisasi populasi awal dengan parameter panjang gen dan ukuran populasi\n",
    "def populasi(panjang_gen,size):\n",
    "    #inisialisasi array baru untuk menyimpan populasi\n",
    "    pops1 = []\n",
    "    #looping sesuai dengan ukuran populasi\n",
    "    for i in range(size):\n",
    "        #masukkan individu ke dalam array populasi\n",
    "        pops1.append(individu(panjang_gen))\n",
    "    return pops1"
   ]
  },
  {
   "cell_type": "code",
   "execution_count": 19,
   "metadata": {},
   "outputs": [
    {
     "name": "stdout",
     "output_type": "stream",
     "text": [
      "[11 12  8  3  4 14  7 15  0  2  1  9 10  5 13  6]\n",
      "[ 3  4 14 13 11 15  2 12  0  7  5 10  6  8  9  1]\n",
      "[10 12  3  8  4 14  6  1  5  0  7 13 11 15  2  9]\n",
      "[ 5  7 12  3 13  4 11  2 14  0  1 10 15  8  6  9]\n",
      "[14 13  1 10  5  6 12  2  4  0 11  9  3  8 15  7]\n",
      "[11  3 10  5  4 12 15  0  8  9  2  1  7 13  6 14]\n",
      "[14  8  0  2  5 11 12  7  1  9  4 15  6 10  3 13]\n",
      "[ 1 10  0  5  8 14 11  7 13  2 12 15  6  3  9  4]\n",
      "[10  7 12 14  6  5  8 13 11  9  0  3  4 15  2  1]\n",
      "[11  1 10 12  3  5  0 14 15  6  4 13  7  8  2  9]\n",
      "[ 0  1  4 13  2 14  5 11 12  6 15 10  9  3  7  8]\n",
      "[ 6  9 13 10 11 12  3 14  7  5  4  1 15  2  8  0]\n",
      "[14  4  8  6 10 13  3 12  5  0  9  2 11  1  7 15]\n",
      "[ 8  3  6 14  7 15  2 12  4 11  1  9  0 10 13  5]\n",
      "[ 9  6 14  8  7  2 15 13 12 10  1  4  3  0 11  5]\n"
     ]
    }
   ],
   "source": [
    "pop_awal = populasi(16,15)\n",
    "for i in range(15):\n",
    "    print(pop_awal[i])"
   ]
  },
  {
   "cell_type": "code",
   "execution_count": 17,
   "metadata": {
    "collapsed": true
   },
   "outputs": [],
   "source": [
    "#crossover dengan menggunakan teknik order crossiver \n",
    "#parameter yang diperlukan adalah crossover rate (cr) dan populasi\n",
    "def crossover(cr,populasi):\n",
    "    #buat sebuah array kosong\n",
    "    hasilCros = []    \n",
    "    #variabel pops digunakan untuk menyimpan array hasil tahap populasi \n",
    "    pops = populasi\n",
    "    #menentukan jumlah offspring sesuai dengan cr yang dimasukkan dikali dengan panjang populasi\n",
    "    offspring = int(cr * len(pops))\n",
    "    #melakukan permutasi secara random dengan rentang 0 - panjang populasi\n",
    "    permut1 = np.random.permutation(range(0, len(pops)))\n",
    "    #inisialisasi bilangan acak permutasi sebanyak nilai offspring \n",
    "    #ini dilakukan untuk mendapatkan index pada populasi yang akan dilakukan crossover\n",
    "    #cross1 akan berperan sebagai parent1\n",
    "    cross1 = permut1[0:offspring]\n",
    "    #cross2 merupakan hasil acak dari cross1 \n",
    "    #cross2 akan digunakan sebagai parent ke 2 untuk dipasangkan dengan parent1/cross1\n",
    "    cross2 = sorted(cross1,key=lambda k:np.random.random())\n",
    "    #variabel random digunakan untuk menentukan titik crossover di dalam suatu individu\n",
    "    random = np.random.randint(0,len(pops),len(cross2))\n",
    "    \n",
    "    #buat variabel yang isinya sama dengan pops\n",
    "    uji = pops.copy()\n",
    "    #lakukan looping sepanjang cross1 \n",
    "    for i in range(len(cross1)):\n",
    "        #masukkan nilai individu yang sudah dipotong pada titik tertentu\n",
    "        hasilCros.append(pops[cross1[i]][:random[i]+1])\n",
    "    #masukkan nilai hasilCros kedalam variabel baru\n",
    "    hasilCrossBaru = hasilCros.copy()\n",
    "    \n",
    "    #perulangan ini dilakukan untuk memasukkan nilai dari parent2 yang belum ada di offspring  \n",
    "    for j in range(len(cross1)):\n",
    "        for k in range(len(uji[0])):\n",
    "            if(uji[cross2[j]][k] not in hasilCrossBaru[j]):\n",
    "                hasilCrossBaru[j] = np.append(hasilCrossBaru[j], uji[cross2[j]][k])\n",
    "    \n",
    "    #setelah hasil offspring didapatkan maka offspring tersebut dimasukkan ke dalam populasi induknya seperti pada perulangan dibawah\n",
    "    for i in range(len(cross1)):\n",
    "        uji.append(hasilCrossBaru[i])\n",
    "    #print(random)\n",
    "    #print('\\n cross1 \\n', cross1 , '\\n') \n",
    "    #print('\\n cross2 \\n',cross2 , '\\n')\n",
    "    #print('sebelum crossover')\n",
    "    #for i in range(len(hasilCrossBaru)):\n",
    "    #    print(hasilCrossBaru[i])\n",
    "    #print('\\n hasil sebelum crossover')\n",
    "    return(uji)"
   ]
  },
  {
   "cell_type": "code",
   "execution_count": 20,
   "metadata": {},
   "outputs": [
    {
     "name": "stdout",
     "output_type": "stream",
     "text": [
      "[11 12  8  3  4 14  7 15  0  2  1  9 10  5 13  6]\n",
      "[ 3  4 14 13 11 15  2 12  0  7  5 10  6  8  9  1]\n",
      "[10 12  3  8  4 14  6  1  5  0  7 13 11 15  2  9]\n",
      "[ 5  7 12  3 13  4 11  2 14  0  1 10 15  8  6  9]\n",
      "[14 13  1 10  5  6 12  2  4  0 11  9  3  8 15  7]\n",
      "[11  3 10  5  4 12 15  0  8  9  2  1  7 13  6 14]\n",
      "[14  8  0  2  5 11 12  7  1  9  4 15  6 10  3 13]\n",
      "[ 1 10  0  5  8 14 11  7 13  2 12 15  6  3  9  4]\n",
      "[10  7 12 14  6  5  8 13 11  9  0  3  4 15  2  1]\n",
      "[11  1 10 12  3  5  0 14 15  6  4 13  7  8  2  9]\n",
      "[ 0  1  4 13  2 14  5 11 12  6 15 10  9  3  7  8]\n",
      "[ 6  9 13 10 11 12  3 14  7  5  4  1 15  2  8  0]\n",
      "[14  4  8  6 10 13  3 12  5  0  9  2 11  1  7 15]\n",
      "[ 8  3  6 14  7 15  2 12  4 11  1  9  0 10 13  5]\n",
      "[ 9  6 14  8  7  2 15 13 12 10  1  4  3  0 11  5]\n",
      "[ 8  3  6 14  7 15  2 12  4 11  1  9  0 10 13  5]\n",
      "[ 6  9 13 10 11 12  3 14  7  5  4  1 15  2  8  0]\n",
      "[ 9  6 14  8  7  2 15 13 12 10  1  4  3  0  5 11]\n",
      "[10  7 12 14  6  5  9  8  2 15 13  1  4  3  0 11]\n",
      "[ 3  4 14 13 11 15  2 12  0  7  5 10  6  8  9  1]\n",
      "[ 1 10  0  5  8 14 11  7 13  2 12 15  6  3  9  4]\n"
     ]
    }
   ],
   "source": [
    "#hasil populasi setelah di crossover\n",
    "crossing = crossover(0.4,pop_awal)\n",
    "for i in range(len(crossing)):\n",
    "    print(crossing[i])"
   ]
  },
  {
   "cell_type": "code",
   "execution_count": 21,
   "metadata": {
    "collapsed": true
   },
   "outputs": [],
   "source": [
    "#mutasi dengan menggunakan teknik reciprocal mutation \n",
    "#parameter yang diperlukan adalah mutation rate(mr), populasi hasil crossover, dan ukuran populasi awal\n",
    "def mutasi(mr,hasilCros,popSize):\n",
    "    #copy populasi hasil crossover ke dalam variabel \n",
    "    test = hasilCros.copy()\n",
    "    #tentukan jumlah individu yang ingin dimutasi\n",
    "    jumlah_gen_mut = int(mr * popSize)\n",
    "    #variabel randi digunakan untuk mentukan nilai permutasi random dari 0 sampai panjang hasil populasi crossover\n",
    "    #randi akan dipakai untuk menentukan individu yang akan dimutasi \n",
    "    randis = np.random.permutation(range(0, len(test)))\n",
    "    #variabel random akan membuat sebuah array sebanyak jumlah individu yang ingin dimutasi \n",
    "    random = randis[0:jumlah_gen_mut]\n",
    "    \n",
    "    \n",
    "    forMutasi = test.copy()\n",
    "    for i in range(len(random)):\n",
    "        permut1 = np.random.permutation(range(0, len(test[0])))\n",
    "        randi =permut1[0:2]  \n",
    "        #membuat variabel temp sebagai array tampungan sementara\n",
    "        temp = []\n",
    "        #tambahkan gen berdasarkan random dan randi\n",
    "        temp.append(test[random[i]][randi[0]])\n",
    "        temp.append(test[random[i]][randi[1]])\n",
    "        #individu pada array formutasi dengan indeks random ke-i akan dihapus terlebih dahulu lalu baru ditambahkan nilai indeks baru\n",
    "        forMutasi[random[i]] = np.delete(forMutasi[random[i]],randi[0],None)\n",
    "        forMutasi[random[i]] = np.insert(forMutasi[random[i]],randi[0],temp[1],None)\n",
    "        forMutasi[random[i]] = np.delete(forMutasi[random[i]],randi[1],None)\n",
    "        forMutasi[random[i]] = np.insert(forMutasi[random[i]],randi[1],temp[0],None)\n",
    "        #print(randi[0])\n",
    "        #print(randi[1])\n",
    "    #print(randi)\n",
    "    #untuk setiap offspring hasil mutasi ditambahkan ke dalam populasi hasil crossover sebelumnya seperti pada perulangan dibawah \n",
    "    for i in range (len(random)):\n",
    "        test.append( forMutasi[random[i]])\n",
    "    \n",
    "    return test"
   ]
  },
  {
   "cell_type": "code",
   "execution_count": 23,
   "metadata": {
    "scrolled": true
   },
   "outputs": [
    {
     "name": "stdout",
     "output_type": "stream",
     "text": [
      "[11 12  8  3  4 14  7 15  0  2  1  9 10  5 13  6]\n",
      "[ 3  4 14 13 11 15  2 12  0  7  5 10  6  8  9  1]\n",
      "[10 12  3  8  4 14  6  1  5  0  7 13 11 15  2  9]\n",
      "[ 5  7 12  3 13  4 11  2 14  0  1 10 15  8  6  9]\n",
      "[14 13  1 10  5  6 12  2  4  0 11  9  3  8 15  7]\n",
      "[11  3 10  5  4 12 15  0  8  9  2  1  7 13  6 14]\n",
      "[14  8  0  2  5 11 12  7  1  9  4 15  6 10  3 13]\n",
      "[ 1 10  0  5  8 14 11  7 13  2 12 15  6  3  9  4]\n",
      "[10  7 12 14  6  5  8 13 11  9  0  3  4 15  2  1]\n",
      "[11  1 10 12  3  5  0 14 15  6  4 13  7  8  2  9]\n",
      "[ 0  1  4 13  2 14  5 11 12  6 15 10  9  3  7  8]\n",
      "[ 6  9 13 10 11 12  3 14  7  5  4  1 15  2  8  0]\n",
      "[14  4  8  6 10 13  3 12  5  0  9  2 11  1  7 15]\n",
      "[ 8  3  6 14  7 15  2 12  4 11  1  9  0 10 13  5]\n",
      "[ 9  6 14  8  7  2 15 13 12 10  1  4  3  0 11  5]\n",
      "[ 8  3  6 14  7 15  2 12  4 11  1  9  0 10 13  5]\n",
      "[ 6  9 13 10 11 12  3 14  7  5  4  1 15  2  8  0]\n",
      "[ 9  6 14  8  7  2 15 13 12 10  1  4  3  0  5 11]\n",
      "[10  7 12 14  6  5  9  8  2 15 13  1  4  3  0 11]\n",
      "[ 3  4 14 13 11 15  2 12  0  7  5 10  6  8  9  1]\n",
      "[ 1 10  0  5  8 14 11  7 13  2 12 15  6  3  9  4]\n",
      "[ 8  3  6 11  7 15  2 12  4 14  1  9  0 10 13  5]\n",
      "[14 13  1 10  5  6 12  2  4  0 11  9  8  3 15  7]\n",
      "[10  7 12 14  6  5  8 13  3  9  0 11  4 15  2  1]\n"
     ]
    }
   ],
   "source": [
    "mut = mutasi(0.2,crossing,15)\n",
    "for i in range(len(mut)):\n",
    "    print(mut[i])"
   ]
  },
  {
   "cell_type": "code",
   "execution_count": 24,
   "metadata": {
    "collapsed": true
   },
   "outputs": [],
   "source": [
    "#menghitung fitness setiap individu dalam populasi hasil mutasi\n",
    "def fitness(populasi):\n",
    "    #variabel pops menampung isi array dari populasi yang direturn dari tahap mutasi \n",
    "    pops = populasi\n",
    "    #buat sebuah array dengan nilai nol sepanjang pops\n",
    "    cost = np.zeros((len(pops),1))  \n",
    "    fitness = np.zeros((len(pops),1)) \n",
    "    #perulangan ini digunakan untuk mendapatkan nilai jarak antar kota lalu kemudian dijumlah \n",
    "    for i in range(len(pops)):\n",
    "        temp = 0 \n",
    "        for j in range (len(pops[i])):\n",
    "            if(j != len(pops[i])-1):\n",
    "                #menghitung jarak antar kota setiap individu\n",
    "                temp = temp + jarak_kota[pops[i][j]][pops[i][j+1]]\n",
    "                cost[i] = temp\n",
    "        #menambahkan jarak kota dari kediri ke kota lain dan kota lain ke kota kediri\n",
    "        cost[i] = cost[i] + jarak_kediri[0][pops[i][0]] + jarak_kediri[0][pops[i][len(pops[0]) -1]]\n",
    "        #menghitung fitness\n",
    "        #rumus fitness untuk kasus ini adalah 1/cost\n",
    "        fitness[i] = 1 / (cost[i])\n",
    "    return fitness"
   ]
  },
  {
   "cell_type": "code",
   "execution_count": 25,
   "metadata": {},
   "outputs": [
    {
     "name": "stdout",
     "output_type": "stream",
     "text": [
      "[ 0.0001872]\n",
      "[ 0.00018532]\n",
      "[ 0.00015891]\n",
      "[ 0.00015485]\n",
      "[ 0.00017071]\n",
      "[ 0.00017709]\n",
      "[ 0.00018093]\n",
      "[ 0.00016502]\n",
      "[ 0.0001634]\n",
      "[ 0.00015389]\n",
      "[ 0.0001471]\n",
      "[ 0.00017106]\n",
      "[ 0.00016062]\n",
      "[ 0.00015466]\n",
      "[ 0.00016215]\n",
      "[ 0.00015466]\n",
      "[ 0.00017106]\n",
      "[ 0.00015941]\n",
      "[ 0.00019968]\n",
      "[ 0.00018532]\n",
      "[ 0.00016502]\n",
      "[ 0.00016186]\n",
      "[ 0.00019369]\n",
      "[ 0.00018255]\n"
     ]
    }
   ],
   "source": [
    "#contoh hasil fitness\n",
    "new_fitness = fitness(mut)\n",
    "for i in range(len(new_fitness)):\n",
    "    print(new_fitness[i])"
   ]
  },
  {
   "cell_type": "code",
   "execution_count": 26,
   "metadata": {
    "collapsed": true
   },
   "outputs": [],
   "source": [
    "#pada tahap seleksi seleksi yang digunakan adalah metode roulette wheel \n",
    "#parameter yagn dibutuhkan adalah jumlah_kota, fitness hasil mutasi, populasi hasil mutasi dan ukuran populasi awal\n",
    "def seleksi_roulette(high,fitness,hasil_mutasi,size):\n",
    "    #buat sebuah array kosong \n",
    "    newpops2 = []  \n",
    "    #tamuung nilai fitness dan hasil_mutasi ke dalam variabel tertentu\n",
    "    inverse = fitness\n",
    "    pops = hasil_mutasi\n",
    "    #hitung nilai total_q dengan menjumlahkan seluruh nilai fitness\n",
    "    total_q = sum(inverse)\n",
    "    #buat sebuah array dengan nilai 0 sebanyak panjang inverse\n",
    "    prob  = np.zeros((len(inverse),1)) \n",
    "    kumulatif = np.zeros((len(inverse),1))\n",
    "    #menghitung nilai kumulatif dengan menambahkan nilai probablitas saat ini dengan kumulatif sebelumnya \n",
    "    for i in range (len(inverse)):\n",
    "        prob[i] = inverse[i] / total_q\n",
    "        if( i == 0 ):\n",
    "            kumulatif[i] = prob[i]\n",
    "        else:\n",
    "            kumulatif[i] = kumulatif[i - 1] + prob[i] \n",
    "    #akan membangkitkan nilai random sebanyak ukuran populasi \n",
    "    random = np.random.rand(size,1)\n",
    "    newpops = []\n",
    "    #perulangan ini digunakan untuk membandingkan kumulatif ke-p dengan nilai random ke-i jika nilai random lebih kecil dari\n",
    "    #nilai kumulatif tersebut maka populasi ke-p akan dimasukkan ke dalam array populasi baru \n",
    "    for i in range(size):\n",
    "        p = 0\n",
    "        for j in range(len(inverse)):\n",
    "            if(random[i] < kumulatif[p] and p != size):\n",
    "                newpops.append(p)\n",
    "                newpops2.append(pops[p])\n",
    "                break\n",
    "            else:\n",
    "                p = p + 1\n",
    "                \n",
    "    \n",
    "    #print('ini inverse \\n',inverse,'\\n')\n",
    "    #print('ini total_q',total_q)\n",
    "    #print('prob \\n',prob,'\\n')\n",
    "    #print('kumulatif \\n',kumulatif,'\\n')\n",
    "    #print('random \\n',random,'\\n')\n",
    "    #print(newpops,'\\n')\n",
    "    return(newpops2)"
   ]
  },
  {
   "cell_type": "code",
   "execution_count": 27,
   "metadata": {},
   "outputs": [
    {
     "data": {
      "text/plain": [
       "[array([ 3,  4, 14, 13, 11, 15,  2, 12,  0,  7,  5, 10,  6,  8,  9,  1]),\n",
       " array([ 8,  3,  6, 14,  7, 15,  2, 12,  4, 11,  1,  9,  0, 10, 13,  5]),\n",
       " array([11,  1, 10, 12,  3,  5,  0, 14, 15,  6,  4, 13,  7,  8,  2,  9]),\n",
       " array([ 8,  3,  6, 11,  7, 15,  2, 12,  4, 14,  1,  9,  0, 10, 13,  5]),\n",
       " array([11,  1, 10, 12,  3,  5,  0, 14, 15,  6,  4, 13,  7,  8,  2,  9]),\n",
       " array([ 6,  9, 13, 10, 11, 12,  3, 14,  7,  5,  4,  1, 15,  2,  8,  0]),\n",
       " array([ 6,  9, 13, 10, 11, 12,  3, 14,  7,  5,  4,  1, 15,  2,  8,  0]),\n",
       " array([11, 12,  8,  3,  4, 14,  7, 15,  0,  2,  1,  9, 10,  5, 13,  6]),\n",
       " array([14, 13,  1, 10,  5,  6, 12,  2,  4,  0, 11,  9,  3,  8, 15,  7]),\n",
       " array([ 9,  6, 14,  8,  7,  2, 15, 13, 12, 10,  1,  4,  3,  0,  5, 11])]"
      ]
     },
     "execution_count": 27,
     "metadata": {},
     "output_type": "execute_result"
    }
   ],
   "source": [
    "#berikut adalah contoh populasi hasil seleksi\n",
    "seleksi_roulette(16,new_fitness,mut,10)"
   ]
  },
  {
   "cell_type": "code",
   "execution_count": 28,
   "metadata": {},
   "outputs": [
    {
     "name": "stdout",
     "output_type": "stream",
     "text": [
      "individu terbaik yang didapatkan adalah : [array([10,  5,  0,  6,  7,  1, 11,  4, 15, 14, 12,  8,  9,  3, 13,  2])] dengan fitness: [0.00033277870216306157]\n"
     ]
    },
    {
     "data": {
      "image/png": "[encoded data removed]",
      "text/plain": [
       "<Figure size 432x288 with 1 Axes>"
      ]
     },
     "metadata": {},
     "output_type": "display_data"
    }
   ],
   "source": [
    "#inisialisasi jumlah kota\n",
    "jumlah_kota = 16\n",
    "#inisialisasi ukuran populasi awal\n",
    "popSize = 10\n",
    "#inisialisasi iterasi maksimum\n",
    "iterasi_maksimum = 5000\n",
    "#inisialisasi crossover rate (cr)\n",
    "cr = 0.4\n",
    "#inisialisasi mutation rate (mr)\n",
    "mr = 0.1\n",
    "# buat populasi awal \n",
    "population = populasi(jumlah_kota, popSize)\n",
    "#inisialisasi array kosong untuk menyimpan individu terbaik setiap generasi\n",
    "individu_terbaik_generasi = []\n",
    "#inisialisasi array kosong untuk menyimpan fitness individu terbaik setiap generasi\n",
    "fitness_terbaik_generasi = []\n",
    "#lalkukan perulangan sebanyak jumlah iterasi maksimum\n",
    "#gabung_array2 = np.concatenate((individu_terbaik_generasi,fitness_terbaik_generasi),axis = 1)\n",
    "\n",
    "fitness_terbaik = []\n",
    "individu_terbaik = []\n",
    "for i in range(iterasi_maksimum):\n",
    "    #print('hasil_populasi :',i)\n",
    "    #for j in range(len(population)):\n",
    "    #    print(population[j])\n",
    "    #print('\\n')\n",
    "    hasil_cross = crossover(cr,population)\n",
    "    hasil_mutasi = mutasi(mr,hasil_cross,popSize)\n",
    "    hasil_fitness = fitness(hasil_mutasi)\n",
    "    hasil_seleksi = seleksi_roulette(jumlah_kota,hasil_fitness,hasil_mutasi,popSize)\n",
    "    fitness_hasilSeleksi = fitness(hasil_seleksi)\n",
    "    population = hasil_seleksi\n",
    "    \n",
    "    #untuk mendapatkan individu terbaik dari tiap generasi\n",
    "    sort = []\n",
    "    \n",
    "    for j in range(len(hasil_seleksi)):\n",
    "        sort.append(j) \n",
    "    sort = np.reshape(sort,(len(sort),1))\n",
    "    #menggabungkan index array populasi  dengan fitness hasil seleksi\n",
    "    gabung_array = np.concatenate((sort,fitness_hasilSeleksi),axis = 1)\n",
    "    #mengurutkan berdasarkan fitness tertinggi\n",
    "    hasil_sort = gabung_array[gabung_array[:,1].argsort()][::-1]\n",
    "    #print(hasil_sort)\n",
    "    #int(hasil_sort[0])\n",
    "    #menambahkan individu terbaik generasi ke dalam array \n",
    "    individu_terbaik_generasi.append(hasil_seleksi[int(hasil_sort[0][0])])\n",
    "    #menambahkan fitness terbaik generasi ke dalam array\n",
    "    fitness_terbaik_generasi.append(hasil_sort[0][1])\n",
    "    \n",
    "    #untuk mendapatkan individu dan fitness terbaik keseluruhan\n",
    "    if(all(i <= hasil_sort[0][1] for i in fitness_terbaik_generasi)):\n",
    "        fitness_terbaik = []\n",
    "        individu_terbaik = []\n",
    "        individu_terbaik.append(hasil_seleksi[int(hasil_sort[0][0])])\n",
    "        fitness_terbaik.append(hasil_sort[0][1])\n",
    "    \n",
    "    \n",
    "#    print('hasil seleksi generasi :',i)\n",
    "#    print(hasil_sort[0][1])\n",
    "#    for j in range(len(hasil_seleksi)):\n",
    "#        print(hasil_seleksi[j])\n",
    "#    print('\\n')\n",
    "    \n",
    "\n",
    "print('individu terbaik yang didapatkan adalah :',individu_terbaik,'dengan fitness:',fitness_terbaik)\n",
    "#digunakan untuk plotting grafik\n",
    "import matplotlib.pyplot as plt\n",
    "%matplotlib inline\n",
    "plt.plot(fitness_terbaik_generasi)\n",
    "plt.xlabel('Generasi')\n",
    "plt.ylabel('nilai fitness terbaik')\n",
    "plt.show()"
   ]
  },
  {
   "cell_type": "markdown",
   "metadata": {},
   "source": [
    "<h4>Daftar Pustaka :</h4>\n",
    "<p>1.) Mahmudy, Wayan Firdaus; Dewi, Candra.(2014). Implementasi Algoritma Genetika pada Optimasi Biaya Pemenuhan Kebutuhan Gizi.</p>\n",
    "<p>2.) Mahmudy, Wayan Firdaus.(2015). Dasar - dasar Algoritma Evolusi</p>\n",
    "<p>3.) Andhyka, Awang.(2018). Penerapan Algoritma Genetika pada permasalahan Matematika</p>\n",
    "<p>4.) Amelia, Lily; Aprianto.(2011). Optimalisasi penjadwalan produksi dengan metode algoritma genetika di PT.Progress Diecast</p>\n",
    "<p>5.) Febriyana, Ria; Mahmudy, Wayan Firdaus.(2016). Penjadwalan kapal penyeberangan menggunakan algoritma Genetika</p>\n",
    "<p>6.) Damayanti, Madi Putri, M.Ali Fauzi.(2017).implementasi algoritma genetika untuk penjadwalan Customer service</p>\n",
    "<p>7.) Fox,Roland dan Steven Tseng.1997.Traveling Salesman Problem by Genetic Algorithm and Simulated Annealing.</p>\n",
    "<p>8.) Kumar, Anit.(2013)Encoding Schemes in Genetic Algorithm </p> \n"
   ]
  }
 ],
 "metadata": {
  "kernelspec": {
   "display_name": "Python 3",
   "language": "python",
   "name": "python3"
  },
  "language_info": {
   "codemirror_mode": {
    "name": "ipython",
    "version": 3
   },
   "file_extension": ".py",
   "mimetype": "text/x-python",
   "name": "python",
   "nbconvert_exporter": "python",
   "pygments_lexer": "ipython3",
   "version": "3.6.8"
  }
 },
 "nbformat": 4,
 "nbformat_minor": 2
}
